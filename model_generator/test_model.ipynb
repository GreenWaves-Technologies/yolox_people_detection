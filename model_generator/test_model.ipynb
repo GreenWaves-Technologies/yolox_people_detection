{
 "cells": [
  {
   "cell_type": "code",
   "execution_count": null,
   "metadata": {},
   "outputs": [],
   "source": [
    "from nntool.api import NNGraph\n",
    "from nntool_generate_model import build_graph\n",
    "\n",
    "from PIL import Image\n",
    "\n",
    "from quantization.utils import hwc_slice\n",
    "import numpy as np"
   ]
  },
  {
   "cell_type": "code",
   "execution_count": null,
   "metadata": {},
   "outputs": [],
   "source": [
    "G = build_graph(\"../weights/yolox-QVGA-bayer-BGR.onnx\", \"../weights/precalculated_stats_bayer_v2_qvga_trainset_nonpadded.pickle\")"
   ]
  },
  {
   "cell_type": "code",
   "execution_count": null,
   "metadata": {},
   "outputs": [],
   "source": [
    "image = Image.open(\"../test_data/input.ppm\")\n",
    "input_tensor = hwc_slice(np.array(image))\n",
    "print(input_tensor.shape)\n",
    "flout = G.execute([input_tensor])\n",
    "dqout = G.execute([input_tensor], dequantize=True)\n",
    "qqout = G.execute([input_tensor], dequantize=False, quantize=True)\n",
    "res = G.execute_on_target(\n",
    "    input_tensors=qqout[0],\n",
    "    directory=\"/tmp/test_yolox_people_detection\",\n",
    "    settings={\n",
    "        \"tensor_directory\": \"tensors\",\n",
    "        \"model_directory\": \"\",\n",
    "        \"model_file\": \"ATmodel.c\",\n",
    "\n",
    "        \"l1_size\": 128000,\n",
    "        \"l2_size\": 1000000,\n",
    "\n",
    "        \"graph_monitor_cycles\": True,\n",
    "        \"graph_produce_node_names\": True,\n",
    "        \"graph_produce_operinfos\": True,\n",
    "        \"graph_const_exec_from_flash\": True,\n",
    "        \"graph_dump_tensor_to_file\": True,\n",
    "\n",
    "        \"l3_ram_device\": \"AT_MEM_L3_DEFAULTRAM\",\n",
    "        \"l3_flash_device\": \"AT_MEM_L3_DEFAULTFLASH\", #\"AT_MEM_L3_DEFAULTFLASH\",\n",
    "    },\n",
    "    check_on_target=True,\n",
    "    output_tensors=4,\n",
    "    print_output=True\n",
    ")"
   ]
  },
  {
   "cell_type": "code",
   "execution_count": null,
   "metadata": {},
   "outputs": [],
   "source": [
    "from nntool.api.utils import qsnr\n",
    "\n",
    "for i, (a, b) in enumerate(zip(res.output_tensors, qqout)):\n",
    "    for idx in range(len(a)):\n",
    "        if a[idx] is not None and b[idx] is not None:\n",
    "            print(f\"{i:5} [{idx:2}] --> {qsnr(a[idx], b[idx])}\")"
   ]
  },
  {
   "cell_type": "code",
   "execution_count": null,
   "metadata": {},
   "outputs": [],
   "source": [
    "G.draw(quant_labels=True)"
   ]
  },
  {
   "cell_type": "code",
   "execution_count": null,
   "metadata": {},
   "outputs": [],
   "source": []
  }
 ],
 "metadata": {
  "kernelspec": {
   "display_name": "nntool",
   "language": "python",
   "name": "python3"
  },
  "language_info": {
   "codemirror_mode": {
    "name": "ipython",
    "version": 3
   },
   "file_extension": ".py",
   "mimetype": "text/x-python",
   "name": "python",
   "nbconvert_exporter": "python",
   "pygments_lexer": "ipython3",
   "version": "3.10.9"
  },
  "orig_nbformat": 4
 },
 "nbformat": 4,
 "nbformat_minor": 2
}
